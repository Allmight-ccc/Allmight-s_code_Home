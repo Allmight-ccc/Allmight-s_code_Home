{
 "metadata": {
  "language_info": {
   "codemirror_mode": {
    "name": "ipython",
    "version": 3
   },
   "file_extension": ".py",
   "mimetype": "text/x-python",
   "name": "python",
   "nbconvert_exporter": "python",
   "pygments_lexer": "ipython3",
   "version": "3.9.1"
  },
  "orig_nbformat": 2,
  "kernelspec": {
   "name": "python391jvsc74a57bd006cb67651ce969e244f20f184e33f4ddb1106793adfe07cf7ddc131c95c4012f",
   "display_name": "Python 3.9.1 64-bit"
  }
 },
 "nbformat": 4,
 "nbformat_minor": 2,
 "cells": [
  {
   "cell_type": "code",
   "execution_count": 29,
   "metadata": {},
   "outputs": [],
   "source": [
    "import numpy as np\n",
    "from sklearn import datasets\n",
    "import matplotlib.pyplot as plt\n",
    "import sympy as sp"
   ]
  },
  {
   "cell_type": "code",
   "execution_count": 32,
   "metadata": {},
   "outputs": [],
   "source": [
    "class TreeNode:\n",
    "    def __init__(self, feature_index=None, feature_value=None, feature_name=None, node_value=None, child=None):\n",
    "        \"\"\"\n",
    "            初始化节点：\n",
    "                feature_index：生成节点的特征索引\n",
    "                feature_value：生成节点的特征值\n",
    "                feature_name：生成节点的特证名\n",
    "                node_value：生成节点的值（只有叶节点有值）\n",
    "                child：只用中间节点才有子节点\n",
    "        \"\"\"\n",
    "        self.feature_index = feature_index\n",
    "        self.feature_name = feature_name\n",
    "        self.feature_value = feature_value\n",
    "        self.node_value = node_value\n",
    "        self.child = child"
   ]
  },
  {
   "cell_type": "code",
   "execution_count": null,
   "metadata": {},
   "outputs": [],
   "source": [
    "class DecisionTreeClassifier:\n",
    "    def __init__(self, feature_name, etype, epsilon=0.01):\n",
    "        self.feature_name = feature_name\n",
    "        self.etype = etype\n",
    "        self.epsilon = epsilon"
   ]
  }
 ]
}