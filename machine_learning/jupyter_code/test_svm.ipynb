{
 "metadata": {
  "language_info": {
   "codemirror_mode": {
    "name": "ipython",
    "version": 3
   },
   "file_extension": ".py",
   "mimetype": "text/x-python",
   "name": "python",
   "nbconvert_exporter": "python",
   "pygments_lexer": "ipython3",
   "version": "3.6.6"
  },
  "orig_nbformat": 4,
  "kernelspec": {
   "name": "python3",
   "display_name": "Python 3.6.6 64-bit"
  },
  "interpreter": {
   "hash": "2f464fc6b098c045d3fa2a81389409b13ae3524050d1c22ae6b1fc19c12f7a78"
  }
 },
 "nbformat": 4,
 "nbformat_minor": 2,
 "cells": [
  {
   "cell_type": "code",
   "execution_count": 12,
   "metadata": {},
   "outputs": [],
   "source": [
    "import numpy as np\n",
    "import sympy as sp"
   ]
  },
  {
   "cell_type": "code",
   "execution_count": 13,
   "metadata": {},
   "outputs": [],
   "source": [
    "# 测试数据点\n",
    "x = np.array([[3, 4, 1], [3, 3, 1]])\n",
    "y = np.array([1, 1, -1])"
   ]
  },
  {
   "cell_type": "code",
   "execution_count": 19,
   "metadata": {},
   "outputs": [
    {
     "output_type": "execute_result",
     "data": {
      "text/plain": [
       "lam1*(-B - 3*w_1 - 3*w_2 + 1) + lam2*(-B - 4*w_1 - 3*w_2 + 1) + lam3*(B + w_1 + w_2 + 1) + w_1**2/2 + w_2**2/2"
      ],
      "text/latex": "$\\displaystyle lam_{1} \\left(- B - 3 w_{1} - 3 w_{2} + 1\\right) + lam_{2} \\left(- B - 4 w_{1} - 3 w_{2} + 1\\right) + lam_{3} \\left(B + w_{1} + w_{2} + 1\\right) + \\frac{w_{1}^{2}}{2} + \\frac{w_{2}^{2}}{2}$"
     },
     "metadata": {},
     "execution_count": 19
    }
   ],
   "source": [
    "N, M = x.shape\n",
    "w = np.ones(M)\n",
    "b = 0.0\n",
    "# 定义变量\n",
    "w1, w2, B, lam1, lam2, lam3 = sp.symbols('w_1 w_2 B lam1 lam2 lam3')\n",
    "# 最小函数\n",
    "f = (w1**2 + w2**2) / 2\n",
    "# 约束条件\n",
    "st1 = 1 - y[0] * (w1*3 + w2*3 + B)\n",
    "st2 = 1 - y[1] * (w1*4 + w2*3 + B)\n",
    "st3 = 1 - y[2] * (w1*1 + w2*1 + B)\n",
    "# 定义拉格朗日乘子式\n",
    "lagrange = f + lam1*st1 + lam2*st2 + lam3*st3\n",
    "lagrange"
   ]
  },
  {
   "cell_type": "code",
   "execution_count": 20,
   "metadata": {},
   "outputs": [
    {
     "output_type": "execute_result",
     "data": {
      "text/plain": [
       "[lam1*(-B - 3*w_1 - 3*w_2 + 1),\n",
       " lam2*(-B - 4*w_1 - 3*w_2 + 1),\n",
       " lam3*(B + w_1 + w_2 + 1)]"
      ]
     },
     "metadata": {},
     "execution_count": 20
    }
   ],
   "source": [
    "# 定义kkt条件\n",
    "\n",
    "# lam*st == 0\n",
    "lam_st_kkts = [     \n",
    "    lam1 * st1,\n",
    "    lam2 * st2,\n",
    "    lam3 * st3\n",
    "]\n",
    "\n",
    "# lam >= 0\n",
    "lam_kkts = [\n",
    "    sp.Ge(lam1, 0),\n",
    "    sp.Ge(lam2, 0),\n",
    "    sp.Ge(lam3, 0)\n",
    "]\n",
    "\n",
    "# st <= 0\n",
    "st_kkts = [\n",
    "    sp.Le(st1, 0),\n",
    "    sp.Le(st2, 0),\n",
    "    sp.Le(st3, 0)\n",
    "]\n",
    "\n",
    "lam_st_kkts"
   ]
  },
  {
   "cell_type": "code",
   "execution_count": 6,
   "metadata": {},
   "outputs": [
    {
     "output_type": "execute_result",
     "data": {
      "text/plain": [
       "([-3*lam1 - 4*lam2 + lam3 + w1,\n",
       "  -3*lam1 - 3*lam2 + lam3 + w2,\n",
       "  -lam1 - lam2 + lam3,\n",
       "  lam1*(-B - 3*w1 - 3*w2 + 1),\n",
       "  lam2*(-B - 4*w1 - 3*w2 + 1),\n",
       "  lam3*(B + w1 + w2 + 1)],\n",
       " [(0, 0, -1, 0, 0, 0),\n",
       "  (0, 0, B, 0, 0, 0),\n",
       "  (0, 1, -2, 3/2, -1, 1/2),\n",
       "  (6/13, 4/13, -23/13, 0, 2/13, 2/13),\n",
       "  (1/2, 1/2, -2, 1/4, 0, 1/4)])"
      ]
     },
     "metadata": {},
     "execution_count": 6
    }
   ],
   "source": [
    "# 求导\n",
    "d_w1 = sp.diff(lagrange, w1)\n",
    "d_w2 = sp.diff(lagrange, w2)\n",
    "d_b = sp.diff(lagrange, B)\n",
    "\n",
    "# 解方程\n",
    "solve = sp.solve([d_w1, d_w2, d_b, *lam_st_kkts], [w1, w2, B, lam1, lam2, lam3])\n",
    "[d_w1, d_w2, d_b, *lam_st_kkts], solve\n"
   ]
  },
  {
   "cell_type": "code",
   "execution_count": 7,
   "metadata": {},
   "outputs": [
    {
     "output_type": "execute_result",
     "data": {
      "text/plain": [
       "{'w1': 1/2, 'w2': 1/2, 'B': -2, 'lam1': 1/4, 'lam2': 0, 'lam3': 1/4}"
      ]
     },
     "metadata": {},
     "execution_count": 7
    }
   ],
   "source": [
    "# 遍历结果，找到使f最小的解\n",
    "\n",
    "min_solve = None\n",
    "min_subs = 1e20\n",
    "\n",
    "for i in solve:\n",
    "    # 将单独的一个解封装成字典\n",
    "    i = {\n",
    "        'w1' : i[0],\n",
    "        'w2' : i[1],\n",
    "        'B' : i[2],\n",
    "        'lam1' : i[3],\n",
    "        'lam2' : i[4],\n",
    "        'lam3' : i[5]\n",
    "    }\n",
    "    # 检查是否符合kkt条件，如果不符合去掉\n",
    "    if not lam_kkts[0].subs(i):\n",
    "        continue\n",
    "    if not lam_kkts[1].subs(i):\n",
    "        continue\n",
    "    if not lam_kkts[2].subs(i):\n",
    "        continue\n",
    "\n",
    "    if st_kkts[0].subs(i) != True:\n",
    "        continue\n",
    "    if st_kkts[1].subs(i) != True:\n",
    "        continue\n",
    "    if st_kkts[2].subs(i) != True:\n",
    "        continue\n",
    "\n",
    "    # 找到使f得到最小值的解\n",
    "    subs = f.subs(i)\n",
    "    if subs < min_subs:\n",
    "        min_subs = subs\n",
    "        min_solve = i\n",
    "min_solve\n",
    "\n",
    "# 上述就是一个完整的硬间隔支持向量机的简单实现"
   ]
  },
  {
   "cell_type": "code",
   "execution_count": 11,
   "metadata": {},
   "outputs": [
    {
     "output_type": "execute_result",
     "data": {
      "text/plain": [
       "26*lam1**2 + 44*lam1*lam2 + 19*lam2**2"
      ],
      "text/latex": "$\\displaystyle 26 lam_{1}^{2} + 44 lam_{1} lam_{2} + 19 lam_{2}^{2}$"
     },
     "metadata": {},
     "execution_count": 11
    }
   ],
   "source": [
    "# 使用对偶问题解决支持向量机\n",
    "\n",
    "# 定义符号\n",
    "w1, w2, B, lam1, lam2, lam3 = sp.symbols('w1 w2 B lam1 lam2 lam3')\n",
    "\n",
    "# 组装对偶式中的双层累加部分\n",
    "sigma = 0\n",
    "lams = [lam1, lam2, lam3]\n",
    "for i in range(N):\n",
    "    for j in range(N):\n",
    "        sigma += lams[i] * lams[j] * y[i] * y[j] * x[i].dot(x[j])\n",
    "sigma"
   ]
  },
  {
   "cell_type": "code",
   "execution_count": 16,
   "metadata": {},
   "outputs": [
    {
     "output_type": "execute_result",
     "data": {
      "text/plain": [
       "13*lam1**2 + 22*lam1*lam2 - lam1 + 19*lam2**2/2 - lam2 - lam3"
      ],
      "text/latex": "$\\displaystyle 13 lam_{1}^{2} + 22 lam_{1} lam_{2} - lam_{1} + \\frac{19 lam_{2}^{2}}{2} - lam_{2} - lam_{3}$"
     },
     "metadata": {},
     "execution_count": 16
    }
   ],
   "source": [
    "# 对偶式\n",
    "f = sigma / 2 - sum(lams)\n",
    "f "
   ]
  },
  {
   "cell_type": "code",
   "execution_count": 15,
   "metadata": {},
   "outputs": [
    {
     "output_type": "execute_result",
     "data": {
      "text/plain": [
       "lam1 + lam2 - lam3"
      ],
      "text/latex": "$\\displaystyle lam_{1} + lam_{2} - lam_{3}$"
     },
     "metadata": {},
     "execution_count": 15
    }
   ],
   "source": [
    "# 约束：和等于0\n",
    "st = sum(lams*y)\n",
    "st"
   ]
  },
  {
   "cell_type": "code",
   "execution_count": 17,
   "metadata": {},
   "outputs": [
    {
     "output_type": "execute_result",
     "data": {
      "text/plain": [
       "13*lam1**2 + 22*lam1*lam2 - 2*lam1 + 19*lam2**2/2 - 2*lam2"
      ],
      "text/latex": "$\\displaystyle 13 lam_{1}^{2} + 22 lam_{1} lam_{2} - 2 lam_{1} + \\frac{19 lam_{2}^{2}}{2} - 2 lam_{2}$"
     },
     "metadata": {},
     "execution_count": 17
    }
   ],
   "source": [
    "# 根据对b的导函数等于0可以直接替换lam3\n",
    "f = f.subs(lam3, lam1 + lam2)\n",
    "f"
   ]
  },
  {
   "cell_type": "code",
   "execution_count": 23,
   "metadata": {},
   "outputs": [
    {
     "output_type": "execute_result",
     "data": {
      "text/plain": [
       "{lam1: -3/5, lam2: 4/5}"
      ]
     },
     "metadata": {},
     "execution_count": 23
    }
   ],
   "source": [
    "# 求导\n",
    "d_lam1 = sp.diff(f, lam1)\n",
    "d_lam2 = sp.diff(f, lam2)\n",
    "\n",
    "# 解方程, 所有的lambda都应该大于0\n",
    "solve = sp.solve([d_lam1, d_lam2], lam1, lam2)\n",
    "solve"
   ]
  },
  {
   "cell_type": "code",
   "execution_count": 30,
   "metadata": {},
   "outputs": [
    {
     "output_type": "execute_result",
     "data": {
      "text/plain": [
       "-1/13"
      ],
      "text/latex": "$\\displaystyle - \\frac{1}{13}$"
     },
     "metadata": {},
     "execution_count": 30
    }
   ],
   "source": [
    "# 把lambda2 == 0带入方程\n",
    "f_lam2_is_0 = f.subs(lam2, 0)\n",
    "# 计算lam1\n",
    "solve = sp.solve([sp.diff(f_lam2_is_0, lam1)], lam1)\n",
    "solve[lam2] = 0\n",
    "\n",
    "# 带入式子计算\n",
    "subs = f.subs(solve)\n",
    "subs"
   ]
  },
  {
   "cell_type": "code",
   "execution_count": 32,
   "metadata": {},
   "outputs": [
    {
     "output_type": "execute_result",
     "data": {
      "text/plain": [
       "-2/19"
      ],
      "text/latex": "$\\displaystyle - \\frac{2}{19}$"
     },
     "metadata": {},
     "execution_count": 32
    }
   ],
   "source": [
    "# 把lambda1 == 0带入方程\n",
    "f_lam1_is_0 = f.subs(lam1, 0)\n",
    "# 计算lam2\n",
    "solve = sp.solve([sp.diff(f_lam1_is_0, lam2)], lam2)\n",
    "solve[lam1] = 0\n",
    "\n",
    "# 带入式子计算\n",
    "subs = f.subs(solve)\n",
    "subs"
   ]
  },
  {
   "cell_type": "code",
   "execution_count": 34,
   "metadata": {},
   "outputs": [
    {
     "output_type": "execute_result",
     "data": {
      "text/plain": [
       "array([0.        , 0.10526316, 0.10526316])"
      ]
     },
     "metadata": {},
     "execution_count": 34
    }
   ],
   "source": [
    "# 组装成numpy\n",
    "solves = np.array([\n",
    "    float(solve[lam1]),\n",
    "    float(solve[lam2]),\n",
    "    float(solve[lam1] + solve[lam2])\n",
    "])\n",
    "solves"
   ]
  },
  {
   "cell_type": "code",
   "execution_count": 47,
   "metadata": {},
   "outputs": [
    {
     "output_type": "error",
     "ename": "ValueError",
     "evalue": "shapes (3,) and (2,3) not aligned: 3 (dim 0) != 2 (dim 0)",
     "traceback": [
      "\u001b[1;31m---------------------------------------------------------------------------\u001b[0m",
      "\u001b[1;31mValueError\u001b[0m                                Traceback (most recent call last)",
      "\u001b[1;32m<ipython-input-47-70bf4a0bf50c>\u001b[0m in \u001b[0;36m<module>\u001b[1;34m\u001b[0m\n\u001b[0;32m      4\u001b[0m \u001b[1;33m\u001b[0m\u001b[0m\n\u001b[0;32m      5\u001b[0m \u001b[1;31m# 求b\u001b[0m\u001b[1;33m\u001b[0m\u001b[1;33m\u001b[0m\u001b[0m\n\u001b[1;32m----> 6\u001b[1;33m \u001b[0mb\u001b[0m \u001b[1;33m=\u001b[0m \u001b[0my\u001b[0m\u001b[1;33m[\u001b[0m\u001b[1;36m0\u001b[0m\u001b[1;33m]\u001b[0m \u001b[1;33m-\u001b[0m \u001b[0mnp\u001b[0m\u001b[1;33m.\u001b[0m\u001b[0mdot\u001b[0m\u001b[1;33m(\u001b[0m\u001b[0msolves\u001b[0m \u001b[1;33m*\u001b[0m \u001b[0my\u001b[0m\u001b[1;33m,\u001b[0m \u001b[0mnp\u001b[0m\u001b[1;33m.\u001b[0m\u001b[0mdot\u001b[0m\u001b[1;33m(\u001b[0m\u001b[0mx\u001b[0m\u001b[1;33m[\u001b[0m\u001b[1;36m0\u001b[0m\u001b[1;33m]\u001b[0m\u001b[1;33m,\u001b[0m \u001b[0mx\u001b[0m\u001b[1;33m)\u001b[0m\u001b[1;33m)\u001b[0m\u001b[1;33m\u001b[0m\u001b[0m\n\u001b[0m",
      "\u001b[1;32m<__array_function__ internals>\u001b[0m in \u001b[0;36mdot\u001b[1;34m(*args, **kwargs)\u001b[0m\n",
      "\u001b[1;31mValueError\u001b[0m: shapes (3,) and (2,3) not aligned: 3 (dim 0) != 2 (dim 0)"
     ]
    }
   ],
   "source": [
    "# 求w\n",
    "w = np.dot(solves * y, x.T)\n",
    "w\n",
    "\n",
    "# 求b\n",
    "b = y[0] - np.dot(solves * y, np.dot(x[0], x))"
   ]
  },
  {
   "cell_type": "code",
   "execution_count": null,
   "metadata": {},
   "outputs": [],
   "source": []
  }
 ]
}