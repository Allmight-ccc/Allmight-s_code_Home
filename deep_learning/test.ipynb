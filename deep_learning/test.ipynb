{
 "metadata": {
  "language_info": {
   "codemirror_mode": {
    "name": "ipython",
    "version": 3
   },
   "file_extension": ".py",
   "mimetype": "text/x-python",
   "name": "python",
   "nbconvert_exporter": "python",
   "pygments_lexer": "ipython3",
   "version": "3.6.6"
  },
  "orig_nbformat": 2,
  "kernelspec": {
   "name": "python3",
   "display_name": "Python 3.6.6 64-bit"
  },
  "interpreter": {
   "hash": "2f464fc6b098c045d3fa2a81389409b13ae3524050d1c22ae6b1fc19c12f7a78"
  }
 },
 "nbformat": 4,
 "nbformat_minor": 2,
 "cells": [
  {
   "cell_type": "code",
   "execution_count": 249,
   "metadata": {},
   "outputs": [],
   "source": [
    "import torch\n",
    "import numpy as np"
   ]
  },
  {
   "cell_type": "code",
   "execution_count": 250,
   "metadata": {},
   "outputs": [],
   "source": [
    "# tensor 和 numpy 对象的相互转化\n",
    "# a = np.array([[1, 2, 3], [4, 5, 6]])\n",
    "# b = torch.tensor(a)\n",
    "# c = b.numpy()\n",
    "# type(a), type(b), type(c)"
   ]
  },
  {
   "cell_type": "code",
   "execution_count": 251,
   "metadata": {},
   "outputs": [],
   "source": [
    "# 只有一个元素的向量可以转化为标量\n",
    "# a = torch.tensor([3.5])\n",
    "# a, a.item(), float(a), int(a)"
   ]
  },
  {
   "cell_type": "code",
   "execution_count": 252,
   "metadata": {},
   "outputs": [],
   "source": [
    "# # reshape的一些特性\n",
    "# a = torch.arange(12)\n",
    "# b = a.reshape(3, 4)\n",
    "# b[:] = 2    # 修改所有的值\n",
    "# a, b   # 地址没有改变，实在原地址上进行操作，但是形状又不一样"
   ]
  },
  {
   "cell_type": "code",
   "execution_count": 253,
   "metadata": {},
   "outputs": [],
   "source": [
    "import sympy as sp\n",
    "import numpy as np\n",
    "sp.init_printing(use_unicode=True)"
   ]
  },
  {
   "cell_type": "code",
   "execution_count": 254,
   "metadata": {},
   "outputs": [
    {
     "output_type": "execute_result",
     "data": {
      "text/plain": [
       "                                                                              \n",
       "                                                                              \n",
       "α₀⋅(-b - 3⋅w₀ - 3⋅w₁ + 1) + α₁⋅(-b - 4⋅w₀ - 3⋅w₁ + 1) + α₂⋅(b + w₀ + w₁ + 1) +\n",
       "                                                                              \n",
       "\n",
       "   2     2\n",
       " w₀    w₁ \n",
       " ─── + ───\n",
       "  2     2 "
      ],
      "image/png": "[encoded data removed]",
      "text/latex": "$\\displaystyle \\alpha_{0} \\left(- b - 3 w_{0} - 3 w_{1} + 1\\right) + \\alpha_{1} \\left(- b - 4 w_{0} - 3 w_{1} + 1\\right) + \\alpha_{2} \\left(b + w_{0} + w_{1} + 1\\right) + \\frac{w_{0}^{2}}{2} + \\frac{w_{1}^{2}}{2}$"
     },
     "metadata": {},
     "execution_count": 254
    }
   ],
   "source": [
    "X = np.array([[3, 3], [4, 3], [1, 1]])\n",
    "y = np.array([1, 1, -1])\n",
    "# 通过样本数量创建相应的拉格朗日乘子\n",
    "alphas = sp.Matrix([sp.symbols('alpha_0:%d' % X.shape[0])])\n",
    "weights = sp.Matrix([sp.symbols('w_0:%d' % X.shape[1])])\n",
    "b = sp.symbols('b')\n",
    "\n",
    "# n = sp.Idx('i', (1, X.shape[0]))\n",
    "# n, i, j = sp.symbols('n i j', integer=True)\n",
    "\n",
    "# 构建目标函数\n",
    "objective_func = np.sum([weight**2 for weight in weights]) / 2\n",
    "# objective_func = sp.Sum([weight**2 for weight in weights], (i, 1, n)) / 2\n",
    "\n",
    "# 构建约束函数\n",
    "subject_to_func = sp.Matrix([1-yi*(np.sum(weights*Xi)+b) for yi, Xi in zip(y, X)])\n",
    "# 构建拉格朗日函数\n",
    "lagrange_func = objective_func + np.sum(alphas*subject_to_func)\n",
    "# sp.diff(lagrange_func, weights[0])\n",
    "diff_w = sp.Matrix([sp.diff(lagrange_func, weights[i]) for i in range(weights.shape[1])])\n",
    "# diff_w, lagrange_func, subject_to_func\n",
    "# alphas.T\n",
    "diff_b = sp.diff(lagrange_func, b)\n",
    "lagrange_func\n",
    "# np.sum(alphas*subject_to_func)"
   ]
  },
  {
   "cell_type": "code",
   "execution_count": 255,
   "metadata": {},
   "outputs": [
    {
     "output_type": "execute_result",
     "data": {
      "text/plain": [
       "⎡α₀⋅(-b - 3⋅w₀ - 3⋅w₁ + 1)⎤\n",
       "⎢                         ⎥\n",
       "⎢α₁⋅(-b - 4⋅w₀ - 3⋅w₁ + 1)⎥\n",
       "⎢                         ⎥\n",
       "⎣  α₂⋅(b + w₀ + w₁ + 1)   ⎦"
      ],
      "text/latex": "$\\displaystyle \\left[\\begin{matrix}\\alpha_{0} \\left(- b - 3 w_{0} - 3 w_{1} + 1\\right)\\\\\\alpha_{1} \\left(- b - 4 w_{0} - 3 w_{1} + 1\\right)\\\\\\alpha_{2} \\left(b + w_{0} + w_{1} + 1\\right)\\end{matrix}\\right]$"
     },
     "metadata": {},
     "execution_count": 255
    }
   ],
   "source": [
    "alpha_st_kkts = alphas.T * subject_to_func.T\n",
    "# alpha_st_kkts.shape\n",
    "# a = [item for item in sp.Matrix(alpha_st_kkts)]\n",
    "# a = np.array([item for item in sp.Matrix(alpha_st_kkts)]).reshape(3, 3)\n",
    "\n",
    "alpha_st_kkts = sp.Matrix(np.diag(np.array(alphas.T * subject_to_func.T)))\n",
    "# alphas*subject_to_func.T\n",
    "# subject_to_func\n",
    "# [alphas.T * subject_to_func.T][0].shape\n",
    "# subject_to_func.T\n",
    "alpha_st_kkts"
   ]
  },
  {
   "cell_type": "code",
   "execution_count": 256,
   "metadata": {},
   "outputs": [
    {
     "output_type": "execute_result",
     "data": {
      "text/plain": [
       "⎡α₀ ≥ 0⎤\n",
       "⎢      ⎥\n",
       "⎢α₁ ≥ 0⎥\n",
       "⎢      ⎥\n",
       "⎣α₂ ≥ 0⎦"
      ],
      "text/latex": "$\\displaystyle \\left[\\begin{matrix}\\alpha_{0} \\geq 0\\\\\\alpha_{1} \\geq 0\\\\\\alpha_{2} \\geq 0\\end{matrix}\\right]$"
     },
     "metadata": {},
     "execution_count": 256
    }
   ],
   "source": [
    "alpha_kkts = sp.Matrix([sp.Ge(alpha, 0) for alpha in alphas])\n",
    "alpha_kkts"
   ]
  },
  {
   "cell_type": "code",
   "execution_count": 257,
   "metadata": {},
   "outputs": [
    {
     "output_type": "execute_result",
     "data": {
      "text/plain": [
       "⎡-b - 3⋅w₀ - 3⋅w₁ + 1 ≤ 0⎤\n",
       "⎢                        ⎥\n",
       "⎢-b - 4⋅w₀ - 3⋅w₁ + 1 ≤ 0⎥\n",
       "⎢                        ⎥\n",
       "⎣  b + w₀ + w₁ + 1 ≤ 0   ⎦"
      ],
      "text/latex": "$\\displaystyle \\left[\\begin{matrix}- b - 3 w_{0} - 3 w_{1} + 1 \\leq 0\\\\- b - 4 w_{0} - 3 w_{1} + 1 \\leq 0\\\\b + w_{0} + w_{1} + 1 \\leq 0\\end{matrix}\\right]$"
     },
     "metadata": {},
     "execution_count": 257
    }
   ],
   "source": [
    "st_kkts = sp.Matrix([sp.Le(st, 0) for st in subject_to_func])\n",
    "st_kkts"
   ]
  },
  {
   "cell_type": "code",
   "execution_count": 258,
   "metadata": {},
   "outputs": [
    {
     "output_type": "execute_result",
     "data": {
      "text/plain": [
       "⎡           -23     ⎤\n",
       "⎢-1  b  -2  ────  -2⎥\n",
       "⎣            13     ⎦"
      ],
      "text/latex": "$\\displaystyle \\left[\\begin{matrix}-1 & b & -2 & - \\frac{23}{13} & -2\\end{matrix}\\right]$"
     },
     "metadata": {},
     "execution_count": 258
    }
   ],
   "source": [
    "solve = sp.solve([*diff_w, diff_b, *alpha_st_kkts], [*weights, b, *alphas])\n",
    "# [*diff_w, diff_b, *alpha_st_kkts]\n",
    "# [*weights, b, *alphas]\n",
    "result = sp.Matrix(solve)\n",
    "w = result[:, 0:weights.shape[1]]\n",
    "a = result[:, 3:result.shape[1]]\n",
    "b = result[:, weights.shape[1]]\n",
    "# b\n",
    "result\n",
    "b.T"
   ]
  },
  {
   "cell_type": "code",
   "execution_count": 259,
   "metadata": {},
   "outputs": [],
   "source": [
    "result\n",
    "# for i in b:\n",
    "#     for j, k in zip(w, a):\n",
    "#             # dic = {'w': i, 'b': j, 'a': k}\n",
    "#             # print(dic)\n",
    "#             print(j, i)\n",
    "# w[3, :]\n",
    "# a[3, :]\n",
    "# w[i, :], b[i], a[i, :]\n",
    "# sp.Matrix([*w[0, :], b[0], *a[0, :]]).T\n",
    "# for i in range(b.shape[0]):\n",
    "#     print(w[i, :], b[i], a[i, :])\n",
    "# [*w[0, :], b[0], *a[0, :]]\n",
    "# sp.Matrix([[*w[i, :], b[i], *a[i, :]] for i in range(b.shape[0])])\n",
    "# temp = [[w[i, :], b[i], a[i, :]] for i in range(b.shape[0])]\n",
    "# [{'w': j[0], 'b': j[1], 'a': j[2]} for j in [[w[i, :], b[i], a[i, :]] for i in range(b.shape[0])]]\n",
    "    # dic = {'w': j[0], 'b': j[1], 'a': j[2]}\n",
    "    # print(dic)\n",
    "r = sp.Matrix([{'w': j[0], 'b': j[1], 'a': j[2]} for j in [[w[i, :], b[i], a[i, :]] for i in range(b.shape[0])]])\n",
    "t1 = [*r[4]['a'], r[4]['b'], *r[4]['w']]\n"
   ]
  },
  {
   "cell_type": "code",
   "execution_count": 260,
   "metadata": {},
   "outputs": [],
   "source": [
    "# for i in range(alpha_kkts.shape[0]):\n",
    "# if alpha_kkts[i].subs(r[0]['a']):\n",
    "#     print('yes')\n",
    "# alpha_kkts.shape[0]\n",
    "for i in range(3):\n",
    "    d = {alphas[i]: r[0]['a'][i]}"
   ]
  },
  {
   "cell_type": "code",
   "execution_count": 261,
   "metadata": {},
   "outputs": [],
   "source": [
    "# from sympy.plotting import plot3d\n",
    "# x, y = sp.symbols('x, y')\n",
    "# plot3d(x*sp.exp(-x**2 - y**2), (x, -3, 3), (y, -2, 2))\n",
    "# formula = x*sp.exp(-x**2 - y**2)\n",
    "# formula"
   ]
  },
  {
   "cell_type": "code",
   "execution_count": 262,
   "metadata": {},
   "outputs": [],
   "source": [
    "# import sympy.stats as stat\n",
    "# a = sp.Matrix(sp.symbols(' '.join([('a_%d' % i) for i in range(10)])))\n",
    "# y = sum([a[m]*x**m for m in range(10)])\n",
    "# sp.summation(a[0], (j, 1, i))\n",
    "# sp.Matrix(sp.symbols('a_0:%d' % 10)).T"
   ]
  },
  {
   "cell_type": "code",
   "execution_count": null,
   "metadata": {},
   "outputs": [],
   "source": []
  }
 ]
}