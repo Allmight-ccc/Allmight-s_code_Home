{
 "cells": [
  {
   "cell_type": "code",
   "execution_count": 14,
   "metadata": {},
   "outputs": [],
   "source": [
    "import torch\n",
    "import numpy as np"
   ]
  },
  {
   "cell_type": "code",
   "execution_count": 15,
   "metadata": {},
   "outputs": [],
   "source": [
    "# tensor 和 numpy 对象的相互转化\n",
    "# a = np.array([[1, 2, 3], [4, 5, 6]])\n",
    "# b = torch.tensor(a)\n",
    "# c = b.numpy()\n",
    "# type(a), type(b), type(c)"
   ]
  },
  {
   "cell_type": "code",
   "execution_count": 16,
   "metadata": {},
   "outputs": [],
   "source": [
    "# 只有一个元素的向量可以转化为标量\n",
    "# a = torch.tensor([3.5])\n",
    "# a, a.item(), float(a), int(a)"
   ]
  },
  {
   "cell_type": "code",
   "execution_count": 17,
   "metadata": {},
   "outputs": [],
   "source": [
    "# # reshape的一些特性\n",
    "# a = torch.arange(12)\n",
    "# b = a.reshape(3, 4)\n",
    "# b[:] = 2    # 修改所有的值\n",
    "# a, b   # 地址没有改变，实在原地址上进行操作，但是形状又不一样"
   ]
  },
  {
   "cell_type": "code",
   "execution_count": 18,
   "metadata": {},
   "outputs": [],
   "source": [
    "import sympy as sp\n",
    "import numpy as np\n",
    "sp.init_printing(use_unicode=True)"
   ]
  },
  {
   "cell_type": "code",
   "execution_count": 19,
   "metadata": {},
   "outputs": [
    {
     "data": {
      "image/png": "[encoded data removed]",
      "text/latex": [
       "$\\displaystyle \\left( 1, \\  2\\right)$"
      ],
      "text/plain": [
       "(1, 2)"
      ]
     },
     "execution_count": 19,
     "metadata": {},
     "output_type": "execute_result"
    }
   ],
   "source": [
    "X = np.array([[3, 3], [4, 3], [1, 1]])\r\n",
    "y = np.array([1, 1, -1])\r\n",
    "# 通过样本数量创建相应的拉格朗日乘子\r\n",
    "alphas = sp.Matrix([sp.symbols('alpha_0:%d' % X.shape[0])])\r\n",
    "weights = sp.Matrix([sp.symbols('w_0:%d' % X.shape[1])])\r\n",
    "b = sp.symbols('b')\r\n",
    "_b = b\r\n",
    "\r\n",
    "# n = sp.Idx('i', (1, X.shape[0]))\r\n",
    "# n, i, j = sp.symbols('n i j', integer=True)\r\n",
    "\r\n",
    "# 构建目标函数\r\n",
    "objective_func = np.sum([weight**2 for weight in weights]) / 2\r\n",
    "# objective_func = sp.Sum([weight**2 for weight in weights], (i, 1, n)) / 2\r\n",
    "\r\n",
    "# 构建约束函数\r\n",
    "subject_to_func = sp.Matrix([1-yi*(np.sum(weights*Xi)+b) for yi, Xi in zip(y, X)])\r\n",
    "# 构建拉格朗日函数\r\n",
    "lagrange_func = objective_func + np.sum(alphas*subject_to_func)\r\n",
    "# sp.diff(lagrange_func, weights[0])\r\n",
    "diff_w = sp.Matrix(sp.diff(lagrange_func, weights))\r\n",
    "# diff_w, lagrange_func, subject_to_func\r\n",
    "# alphas.T\r\n",
    "diff_b = sp.diff(lagrange_func, b)\r\n",
    "lagrange_func\r\n",
    "# np.sum(alphas*subject_to_func)\r\n",
    "# sp.Matrix(sp.diff(lagrange_func, weights))\r\n",
    "weights.shape"
   ]
  },
  {
   "cell_type": "code",
   "execution_count": 20,
   "metadata": {},
   "outputs": [
    {
     "data": {
      "text/latex": [
       "$\\displaystyle \\left[\\begin{matrix}\\alpha_{0} \\left(- b - 3 w_{0} - 3 w_{1} + 1\\right)\\\\\\alpha_{1} \\left(- b - 4 w_{0} - 3 w_{1} + 1\\right)\\\\\\alpha_{2} \\left(b + w_{0} + w_{1} + 1\\right)\\end{matrix}\\right]$"
      ],
      "text/plain": [
       "⎡α₀⋅(-b - 3⋅w₀ - 3⋅w₁ + 1)⎤\n",
       "⎢                         ⎥\n",
       "⎢α₁⋅(-b - 4⋅w₀ - 3⋅w₁ + 1)⎥\n",
       "⎢                         ⎥\n",
       "⎣  α₂⋅(b + w₀ + w₁ + 1)   ⎦"
      ]
     },
     "execution_count": 20,
     "metadata": {},
     "output_type": "execute_result"
    }
   ],
   "source": [
    "alpha_st_kkts = alphas.T * subject_to_func.T\n",
    "# alpha_st_kkts.shape\n",
    "# a = [item for item in sp.Matrix(alpha_st_kkts)]\n",
    "# a = np.array([item for item in sp.Matrix(alpha_st_kkts)]).reshape(3, 3)\n",
    "\n",
    "alpha_st_kkts = sp.Matrix(np.diag(np.array(alphas.T * subject_to_func.T)))\n",
    "# alphas*subject_to_func.T\n",
    "# subject_to_func\n",
    "# [alphas.T * subject_to_func.T][0].shape\n",
    "# subject_to_func.T\n",
    "alpha_st_kkts"
   ]
  },
  {
   "cell_type": "code",
   "execution_count": 21,
   "metadata": {},
   "outputs": [
    {
     "data": {
      "text/latex": [
       "$\\displaystyle \\left[\\begin{matrix}\\alpha_{0} \\geq 0\\\\\\alpha_{1} \\geq 0\\\\\\alpha_{2} \\geq 0\\end{matrix}\\right]$"
      ],
      "text/plain": [
       "⎡α₀ ≥ 0⎤\n",
       "⎢      ⎥\n",
       "⎢α₁ ≥ 0⎥\n",
       "⎢      ⎥\n",
       "⎣α₂ ≥ 0⎦"
      ]
     },
     "execution_count": 21,
     "metadata": {},
     "output_type": "execute_result"
    }
   ],
   "source": [
    "alpha_kkts = sp.Matrix([sp.Ge(alpha, 0) for alpha in alphas])\n",
    "alpha_kkts"
   ]
  },
  {
   "cell_type": "code",
   "execution_count": 22,
   "metadata": {},
   "outputs": [
    {
     "data": {
      "text/latex": [
       "$\\displaystyle \\left[\\begin{matrix}- b - 3 w_{0} - 3 w_{1} + 1 \\leq 0\\\\- b - 4 w_{0} - 3 w_{1} + 1 \\leq 0\\\\b + w_{0} + w_{1} + 1 \\leq 0\\end{matrix}\\right]$"
      ],
      "text/plain": [
       "⎡-b - 3⋅w₀ - 3⋅w₁ + 1 ≤ 0⎤\n",
       "⎢                        ⎥\n",
       "⎢-b - 4⋅w₀ - 3⋅w₁ + 1 ≤ 0⎥\n",
       "⎢                        ⎥\n",
       "⎣  b + w₀ + w₁ + 1 ≤ 0   ⎦"
      ]
     },
     "execution_count": 22,
     "metadata": {},
     "output_type": "execute_result"
    }
   ],
   "source": [
    "st_kkts = sp.Matrix([sp.Le(st, 0) for st in subject_to_func])\n",
    "st_kkts"
   ]
  },
  {
   "cell_type": "code",
   "execution_count": 23,
   "metadata": {},
   "outputs": [
    {
     "data": {
      "text/latex": [
       "$\\displaystyle \\left( \\left[\\begin{matrix}-1\\\\b\\\\-2\\\\- \\frac{23}{13}\\\\-2\\end{matrix}\\right], \\  \\left[\\begin{matrix}0 & 0\\\\0 & 0\\\\0 & 1\\\\\\frac{6}{13} & \\frac{4}{13}\\\\\\frac{1}{2} & \\frac{1}{2}\\end{matrix}\\right]\\right)$"
      ],
      "text/plain": [
       "⎛⎡ -1 ⎤              ⎞\n",
       "⎜⎢    ⎥  ⎡ 0     0  ⎤⎟\n",
       "⎜⎢ b  ⎥  ⎢          ⎥⎟\n",
       "⎜⎢    ⎥  ⎢ 0     0  ⎥⎟\n",
       "⎜⎢ -2 ⎥  ⎢          ⎥⎟\n",
       "⎜⎢    ⎥, ⎢ 0     1  ⎥⎟\n",
       "⎜⎢-23 ⎥  ⎢          ⎥⎟\n",
       "⎜⎢────⎥  ⎢6/13  4/13⎥⎟\n",
       "⎜⎢ 13 ⎥  ⎢          ⎥⎟\n",
       "⎜⎢    ⎥  ⎣1/2   1/2 ⎦⎟\n",
       "⎝⎣ -2 ⎦              ⎠"
      ]
     },
     "execution_count": 23,
     "metadata": {},
     "output_type": "execute_result"
    }
   ],
   "source": [
    "solve = sp.solve([*diff_w, diff_b, *alpha_st_kkts], [*weights, b, *alphas])\n",
    "# [*diff_w, diff_b, *alpha_st_kkts]\n",
    "# [*weights, b, *alphas]\n",
    "result = sp.Matrix(solve)\n",
    "w = result[:, 0:weights.shape[1]]\n",
    "a = result[:, 3:result.shape[1]]\n",
    "b = result[:, weights.shape[1]]\n",
    "# b\n",
    "result\n",
    "b,w"
   ]
  },
  {
   "cell_type": "code",
   "execution_count": 24,
   "metadata": {},
   "outputs": [
    {
     "data": {
      "text/latex": [
       "$\\displaystyle \\left[\\begin{matrix}\\frac{1}{4} & 0 & \\frac{1}{4} & -2 & \\frac{1}{2} & \\frac{1}{2}\\end{matrix}\\right]$"
      ],
      "text/plain": [
       "[1/4  0  1/4  -2  1/2  1/2]"
      ]
     },
     "execution_count": 24,
     "metadata": {},
     "output_type": "execute_result"
    }
   ],
   "source": [
    "result\n",
    "# for i in b:\n",
    "#     for j, k in zip(w, a):\n",
    "#             # dic = {'w': i, 'b': j, 'a': k}\n",
    "#             # print(dic)\n",
    "#             print(j, i)\n",
    "# w[3, :]\n",
    "# a[3, :]\n",
    "# w[i, :], b[i], a[i, :]\n",
    "# sp.Matrix([*w[0, :], b[0], *a[0, :]]).T\n",
    "# for i in range(b.shape[0]):\n",
    "#     print(w[i, :], b[i], a[i, :])\n",
    "# [*w[0, :], b[0], *a[0, :]]\n",
    "# sp.Matrix([[*w[i, :], b[i], *a[i, :]] for i in range(b.shape[0])])\n",
    "# temp = [[w[i, :], b[i], a[i, :]] for i in range(b.shape[0])]\n",
    "# [{'w': j[0], 'b': j[1], 'a': j[2]} for j in [[w[i, :], b[i], a[i, :]] for i in range(b.shape[0])]]\n",
    "    # dic = {'w': j[0], 'b': j[1], 'a': j[2]}\n",
    "    # print(dic)\n",
    "r = sp.Matrix([{'w': j[0], 'b': j[1], 'a': j[2]} for j in [[w[i, :], b[i], a[i, :]] for i in range(b.shape[0])]])\n",
    "t1 = sp.Matrix([*r[4]['a'], r[4]['b'], *r[4]['w']])\n",
    "# r[0]\n",
    "# t1.T\n",
    "\n",
    "# r\n",
    "# r[0]['a'][1]\n",
    "# for i in range(3):\n",
    "#     a = alpha_kkts[i].subs(alphas, r[0]['a'])\n",
    "#     type(a)\n",
    "\n",
    "# for i in range(3):\n",
    "#     t = st_kkts[i].subs(subject_to_func[i], [*r[0]['b'], *r[0]['w'][i]])\n",
    "#     print(t)\n",
    "\n",
    "# for i in range(r.shape[0]):\n",
    "#     for j in range(3):\n",
    "#         t = st_kkts[i].subs(subject_to_func[i], [*r[0]['b'], *r[0]['w'][i]])\n",
    "#         print(t)\n",
    "alpha_kkts[0].subs(alphas[0], r[0]['a'][0])\n",
    "r[0]['b']\n",
    "t1.T"
   ]
  },
  {
   "cell_type": "code",
   "execution_count": 31,
   "metadata": {},
   "outputs": [
    {
     "name": "stdout",
     "output_type": "stream",
     "text": [
      "{'alpha_0': 0, 'alpha_1': 0, 'alpha_2': 0, 'b': -1, 'w_0': 0}\n",
      "{'alpha_0': 0, 'alpha_1': 0, 'alpha_2': 0, 'b': -1, 'w_0': 0, 'w_1': 0}\n",
      "{'alpha_0': 0, 'alpha_1': 0, 'alpha_2': 0, 'b': b, 'w_0': 0}\n",
      "{'alpha_0': 0, 'alpha_1': 0, 'alpha_2': 0, 'b': b, 'w_0': 0, 'w_1': 0}\n",
      "{'alpha_0': 3/2, 'alpha_1': -1, 'alpha_2': 1/2, 'b': -2, 'w_0': 0}\n",
      "{'alpha_0': 3/2, 'alpha_1': -1, 'alpha_2': 1/2, 'b': -2, 'w_0': 0, 'w_1': 1}\n",
      "{'alpha_0': 0, 'alpha_1': 2/13, 'alpha_2': 2/13, 'b': -23/13, 'w_0': 6/13}\n",
      "{'alpha_0': 0, 'alpha_1': 2/13, 'alpha_2': 2/13, 'b': -23/13, 'w_0': 6/13, 'w_1': 4/13}\n",
      "{'alpha_0': 1/4, 'alpha_1': 0, 'alpha_2': 1/4, 'b': -2, 'w_0': 1/2}\n",
      "{'alpha_0': 1/4, 'alpha_1': 0, 'alpha_2': 1/4, 'b': -2, 'w_0': 1/2, 'w_1': 1/2}\n"
     ]
    }
   ],
   "source": [
    "# for i in range(alpha_kkts.shape[0]):\r\n",
    "# if alpha_kkts[i].subs(r[0]['a']):\r\n",
    "#     print('yes')\r\n",
    "# alpha_kkts.shape[0]\r\n",
    "\r\n",
    "# 将结果转化为字典\r\n",
    "for i in range(r.shape[0]):\r\n",
    "    param_dict = dict()\r\n",
    "    for j in range(alphas.shape[1]):\r\n",
    "        param_dict[str(alphas[j])] = r[i]['a'][j]    \r\n",
    "    param_dict['b'] = r[i]['b']    \r\n",
    "    for j in range(weights.shape[1]):\r\n",
    "        param_dict[str(weights[j])] = r[i]['w'][j]\r\n",
    "        print(param_dict)\r\n",
    "    \r\n",
    "# [d.update({alphas[i] : r[0]['a'][i]}) for i in range(3)]\r\n",
    "# [{alphas[i] : r[0]['a'][i]} for i in range(3)]\r\n",
    "# a = [{alphas[i] : r[0]['a'][i]} for i in range(3)]\r\n",
    "# for i in range(alphas.shape[1]):\r\n",
    "#     d[alphas[i]] = r[0]['a'][i]\r\n",
    "# print(d)\r\n",
    "    # d[alphas[i]] = r[0]['a'][i]\r\n",
    "# print(d)"
   ]
  },
  {
   "cell_type": "code",
   "execution_count": 29,
   "metadata": {},
   "outputs": [
    {
     "name": "stdout",
     "output_type": "stream",
     "text": [
      "{'alpha_0': -0.25, 'alpha_1': 0, 'alpha_2': -1, 'b': -2, 'w_0': 0.5, 'w_1': 0.5}\n"
     ]
    },
    {
     "data": {
      "image/png": "[encoded data removed]",
      "text/latex": [
       "$\\displaystyle - b - 3 w_{0} - 3 w_{1} + 1 \\leq 0$"
      ],
      "text/plain": [
       "-b - 3⋅w₀ - 3⋅w₁ + 1 ≤ 0"
      ]
     },
     "execution_count": 29,
     "metadata": {},
     "output_type": "execute_result"
    }
   ],
   "source": [
    "# for i in range(alpha_kkts.shape[0]):\r\n",
    "#     if alpha_kkts[i].subs(alphas[i], r[0]['a'][i])\r\n",
    "#         print('yes')\r\n",
    "alpha_kkts.shape[0]\r\n",
    "# alpha_kkts[i].subs(r[0]['a'][i])\r\n",
    "# r[2]['a'][0]\r\n",
    "# print(param_dict)\r\n",
    "# if alpha_kkts[0].subs(param_dict)\r\n",
    "# alpha_kkts[0].subs(alphas[0], 1)\r\n",
    "alpha_kkts[0].subs(param_dict)\r\n",
    "\r\n",
    "test = {'alpha_0': -1/4, 'alpha_1': 0, 'alpha_2': -1, 'b': -2, 'w_0': 1/2, 'w_1': 1/2}\r\n",
    "test1 = {'alpha_0': 1/4, 'alpha_1': 0, 'alpha_2': -1}\r\n",
    "# for i in range(alpha_kkts.shape[0]):\r\n",
    "#     if not alpha_kkts[i].subs(param_dict):\r\n",
    "#         continue\r\n",
    "print(test)\r\n",
    "[i for i in range(alphas.shape[0]) if not alpha_kkts[i].subs(test)]\r\n",
    "# alpha_kkts.shape\r\n",
    "# for j in range(st_kkts.shape[0]):\r\n",
    "#     if not st_kkts[i].subs(param_dict):\r\n",
    "#         continue\r\n",
    "# st_kkts[2].subs(param_dict)\r\n",
    "alpha_kkts\r\n",
    "alpha_kkts_result = np.array([alpha_kkts[j].subs(alphas[j], a[i, j]) for i in range(5) for j in range(3)]).reshape(5, 3)\r\n",
    "# for i in range(5):\r\n",
    "#     for j in range(3):\r\n",
    "#         print(alpha_kkts[j].subs(alphas[j], a[i, j]))\r\n",
    "# a\r\n",
    "st_kkts_result = np.array([st_kkts[j].subs(st_kkts[j], [b[i], *w[i,:]]) for i in range(5) for j in range(3)]).reshape(5, 3)\r\n",
    "st_kkts_result\r\n",
    "# [b[3], *w[3,:]]\r\n",
    "# alpha_kkts_result\r\n",
    "# [b[3], *w[3,:]]\r\n",
    "# st_kkts[0].subs([_b, *weights], [b[3], *w[3,:]])\r\n",
    "# np.array([st_kkts[j].subs([_b, *weights], [b[i], *w[i,:]]) for i in range(5) for j in range(3)]).reshape(5, 3)\r\n",
    "alpha_kkts[0].subs(alphas[0], a[0, 1])\r\n",
    "[_b, *weights], [b[0], *w[0,:]]\r\n",
    "st_kkts[0].subs([_b, *weights], [b[0], *w[0,:]])"
   ]
  },
  {
   "cell_type": "code",
   "execution_count": 27,
   "metadata": {},
   "outputs": [],
   "source": [
    "# from sympy.plotting import plot3d\n",
    "# x, y = sp.symbols('x, y')\n",
    "# plot3d(x*sp.exp(-x**2 - y**2), (x, -3, 3), (y, -2, 2))\n",
    "# formula = x*sp.exp(-x**2 - y**2)\n",
    "# formula"
   ]
  },
  {
   "cell_type": "code",
   "execution_count": 28,
   "metadata": {},
   "outputs": [],
   "source": [
    "# import sympy.stats as stat\n",
    "# a = sp.Matrix(sp.symbols(' '.join([('a_%d' % i) for i in range(10)])))\n",
    "# y = sum([a[m]*x**m for m in range(10)])\n",
    "# sp.summation(a[0], (j, 1, i))\n",
    "# sp.Matrix(sp.symbols('a_0:%d' % 10)).T"
   ]
  },
  {
   "cell_type": "code",
   "execution_count": null,
   "metadata": {},
   "outputs": [],
   "source": []
  }
 ],
 "metadata": {
  "interpreter": {
   "hash": "2f464fc6b098c045d3fa2a81389409b13ae3524050d1c22ae6b1fc19c12f7a78"
  },
  "kernelspec": {
   "display_name": "Python 3.6.6 64-bit",
   "name": "python3"
  },
  "language_info": {
   "codemirror_mode": {
    "name": "ipython",
    "version": 3
   },
   "file_extension": ".py",
   "mimetype": "text/x-python",
   "name": "python",
   "nbconvert_exporter": "python",
   "pygments_lexer": "ipython3",
   "version": "3.6.6"
  },
  "orig_nbformat": 2
 },
 "nbformat": 4,
 "nbformat_minor": 2
}